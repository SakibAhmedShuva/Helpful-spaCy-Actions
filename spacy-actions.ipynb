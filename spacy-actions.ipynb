{
 "cells": [
  {
   "cell_type": "markdown",
   "metadata": {},
   "source": [
    "# Install required libraries"
   ]
  },
  {
   "cell_type": "code",
   "execution_count": 1,
   "metadata": {
    "execution": {
     "iopub.execute_input": "2024-07-13T04:00:57.989081Z",
     "iopub.status.busy": "2024-07-13T04:00:57.988753Z",
     "iopub.status.idle": "2024-07-13T04:01:18.152835Z",
     "shell.execute_reply": "2024-07-13T04:01:18.151918Z",
     "shell.execute_reply.started": "2024-07-13T04:00:57.989052Z"
    },
    "trusted": true
   },
   "outputs": [
    {
     "name": "stdout",
     "output_type": "stream",
     "text": [
      "Collecting spacy-curated-transformers\n",
      "  Downloading spacy_curated_transformers-2.0.0-py2.py3-none-any.whl.metadata (2.8 kB)\n",
      "Collecting curated-transformers<3.0.0,>=2.0.0 (from spacy-curated-transformers)\n",
      "  Downloading curated_transformers-2.0.1-py2.py3-none-any.whl.metadata (5.3 kB)\n",
      "Collecting curated-tokenizers<3.0.0,>=2.0.0 (from spacy-curated-transformers)\n",
      "  Downloading curated_tokenizers-2.0.0-cp310-cp310-manylinux_2_17_x86_64.manylinux2014_x86_64.whl.metadata (1.9 kB)\n",
      "Requirement already satisfied: fsspec>=2023.5.0 in /opt/conda/lib/python3.10/site-packages (from spacy-curated-transformers) (2024.5.0)\n",
      "Collecting spacy<5.0.0,>=4.0.0.dev2 (from spacy-curated-transformers)\n",
      "  Downloading spacy-4.0.0.dev3-cp310-cp310-manylinux_2_17_x86_64.manylinux2014_x86_64.whl.metadata (26 kB)\n",
      "Collecting thinc<9.1.0,>=9.0.0.dev4 (from spacy-curated-transformers)\n",
      "  Downloading thinc-9.0.0-cp310-cp310-manylinux_2_17_x86_64.manylinux2014_x86_64.whl.metadata (14 kB)\n",
      "Requirement already satisfied: torch>=1.12.0 in /opt/conda/lib/python3.10/site-packages (from spacy-curated-transformers) (2.1.2)\n",
      "Requirement already satisfied: regex>=2022 in /opt/conda/lib/python3.10/site-packages (from curated-tokenizers<3.0.0,>=2.0.0->spacy-curated-transformers) (2023.12.25)\n",
      "Requirement already satisfied: catalogue<2.1.0,>=2.0.4 in /opt/conda/lib/python3.10/site-packages (from curated-transformers<3.0.0,>=2.0.0->spacy-curated-transformers) (2.0.10)\n",
      "Requirement already satisfied: huggingface-hub>=0.14 in /opt/conda/lib/python3.10/site-packages (from curated-transformers<3.0.0,>=2.0.0->spacy-curated-transformers) (0.23.4)\n",
      "Requirement already satisfied: tokenizers>=0.13.3 in /opt/conda/lib/python3.10/site-packages (from curated-transformers<3.0.0,>=2.0.0->spacy-curated-transformers) (0.19.1)\n",
      "Collecting spacy-legacy<4.1.0,>=4.0.0.dev1 (from spacy<5.0.0,>=4.0.0.dev2->spacy-curated-transformers)\n",
      "  Downloading spacy_legacy-4.0.0.dev1-py2.py3-none-any.whl.metadata (3.1 kB)\n",
      "Requirement already satisfied: spacy-loggers<2.0.0,>=1.0.0 in /opt/conda/lib/python3.10/site-packages (from spacy<5.0.0,>=4.0.0.dev2->spacy-curated-transformers) (1.0.5)\n",
      "Requirement already satisfied: murmurhash<1.1.0,>=0.28.0 in /opt/conda/lib/python3.10/site-packages (from spacy<5.0.0,>=4.0.0.dev2->spacy-curated-transformers) (1.0.10)\n",
      "Requirement already satisfied: cymem<2.1.0,>=2.0.2 in /opt/conda/lib/python3.10/site-packages (from spacy<5.0.0,>=4.0.0.dev2->spacy-curated-transformers) (2.0.8)\n",
      "Requirement already satisfied: preshed<3.1.0,>=3.0.2 in /opt/conda/lib/python3.10/site-packages (from spacy<5.0.0,>=4.0.0.dev2->spacy-curated-transformers) (3.0.9)\n",
      "Requirement already satisfied: wasabi<1.2.0,>=0.9.1 in /opt/conda/lib/python3.10/site-packages (from spacy<5.0.0,>=4.0.0.dev2->spacy-curated-transformers) (1.1.2)\n",
      "Requirement already satisfied: srsly<3.0.0,>=2.4.3 in /opt/conda/lib/python3.10/site-packages (from spacy<5.0.0,>=4.0.0.dev2->spacy-curated-transformers) (2.4.8)\n",
      "Collecting weasel<0.4.0,>=0.1.0 (from spacy<5.0.0,>=4.0.0.dev2->spacy-curated-transformers)\n",
      "  Downloading weasel-0.3.4-py3-none-any.whl.metadata (4.7 kB)\n",
      "Collecting typer<0.10.0,>=0.3.0 (from spacy<5.0.0,>=4.0.0.dev2->spacy-curated-transformers)\n",
      "  Downloading typer-0.9.4-py3-none-any.whl.metadata (14 kB)\n",
      "Requirement already satisfied: smart-open<7.0.0,>=5.2.1 in /opt/conda/lib/python3.10/site-packages (from spacy<5.0.0,>=4.0.0.dev2->spacy-curated-transformers) (6.4.0)\n",
      "Requirement already satisfied: tqdm<5.0.0,>=4.38.0 in /opt/conda/lib/python3.10/site-packages (from spacy<5.0.0,>=4.0.0.dev2->spacy-curated-transformers) (4.66.4)\n",
      "Requirement already satisfied: requests<3.0.0,>=2.13.0 in /opt/conda/lib/python3.10/site-packages (from spacy<5.0.0,>=4.0.0.dev2->spacy-curated-transformers) (2.32.3)\n",
      "Requirement already satisfied: pydantic!=1.8,!=1.8.1,<3.0.0,>=1.7.4 in /opt/conda/lib/python3.10/site-packages (from spacy<5.0.0,>=4.0.0.dev2->spacy-curated-transformers) (2.5.3)\n",
      "Requirement already satisfied: jinja2 in /opt/conda/lib/python3.10/site-packages (from spacy<5.0.0,>=4.0.0.dev2->spacy-curated-transformers) (3.1.2)\n",
      "Requirement already satisfied: setuptools in /opt/conda/lib/python3.10/site-packages (from spacy<5.0.0,>=4.0.0.dev2->spacy-curated-transformers) (69.0.3)\n",
      "Requirement already satisfied: packaging>=20.0 in /opt/conda/lib/python3.10/site-packages (from spacy<5.0.0,>=4.0.0.dev2->spacy-curated-transformers) (21.3)\n",
      "Requirement already satisfied: langcodes<4.0.0,>=3.2.0 in /opt/conda/lib/python3.10/site-packages (from spacy<5.0.0,>=4.0.0.dev2->spacy-curated-transformers) (3.4.0)\n",
      "Requirement already satisfied: numpy>=1.19.0 in /opt/conda/lib/python3.10/site-packages (from spacy<5.0.0,>=4.0.0.dev2->spacy-curated-transformers) (1.26.4)\n",
      "Requirement already satisfied: blis<0.8.0,>=0.7.8 in /opt/conda/lib/python3.10/site-packages (from thinc<9.1.0,>=9.0.0.dev4->spacy-curated-transformers) (0.7.10)\n",
      "Requirement already satisfied: confection<1.0.0,>=0.0.1 in /opt/conda/lib/python3.10/site-packages (from thinc<9.1.0,>=9.0.0.dev4->spacy-curated-transformers) (0.1.4)\n",
      "Requirement already satisfied: filelock in /opt/conda/lib/python3.10/site-packages (from torch>=1.12.0->spacy-curated-transformers) (3.13.1)\n",
      "Requirement already satisfied: typing-extensions in /opt/conda/lib/python3.10/site-packages (from torch>=1.12.0->spacy-curated-transformers) (4.9.0)\n",
      "Requirement already satisfied: sympy in /opt/conda/lib/python3.10/site-packages (from torch>=1.12.0->spacy-curated-transformers) (1.13.0)\n",
      "Requirement already satisfied: networkx in /opt/conda/lib/python3.10/site-packages (from torch>=1.12.0->spacy-curated-transformers) (3.2.1)\n",
      "Requirement already satisfied: pyyaml>=5.1 in /opt/conda/lib/python3.10/site-packages (from huggingface-hub>=0.14->curated-transformers<3.0.0,>=2.0.0->spacy-curated-transformers) (6.0.1)\n",
      "Requirement already satisfied: language-data>=1.2 in /opt/conda/lib/python3.10/site-packages (from langcodes<4.0.0,>=3.2.0->spacy<5.0.0,>=4.0.0.dev2->spacy-curated-transformers) (1.2.0)\n",
      "Requirement already satisfied: pyparsing!=3.0.5,>=2.0.2 in /opt/conda/lib/python3.10/site-packages (from packaging>=20.0->spacy<5.0.0,>=4.0.0.dev2->spacy-curated-transformers) (3.1.1)\n",
      "Requirement already satisfied: annotated-types>=0.4.0 in /opt/conda/lib/python3.10/site-packages (from pydantic!=1.8,!=1.8.1,<3.0.0,>=1.7.4->spacy<5.0.0,>=4.0.0.dev2->spacy-curated-transformers) (0.6.0)\n",
      "Requirement already satisfied: pydantic-core==2.14.6 in /opt/conda/lib/python3.10/site-packages (from pydantic!=1.8,!=1.8.1,<3.0.0,>=1.7.4->spacy<5.0.0,>=4.0.0.dev2->spacy-curated-transformers) (2.14.6)\n",
      "Requirement already satisfied: charset-normalizer<4,>=2 in /opt/conda/lib/python3.10/site-packages (from requests<3.0.0,>=2.13.0->spacy<5.0.0,>=4.0.0.dev2->spacy-curated-transformers) (3.3.2)\n",
      "Requirement already satisfied: idna<4,>=2.5 in /opt/conda/lib/python3.10/site-packages (from requests<3.0.0,>=2.13.0->spacy<5.0.0,>=4.0.0.dev2->spacy-curated-transformers) (3.6)\n",
      "Requirement already satisfied: urllib3<3,>=1.21.1 in /opt/conda/lib/python3.10/site-packages (from requests<3.0.0,>=2.13.0->spacy<5.0.0,>=4.0.0.dev2->spacy-curated-transformers) (1.26.18)\n",
      "Requirement already satisfied: certifi>=2017.4.17 in /opt/conda/lib/python3.10/site-packages (from requests<3.0.0,>=2.13.0->spacy<5.0.0,>=4.0.0.dev2->spacy-curated-transformers) (2024.7.4)\n",
      "Requirement already satisfied: click<9.0.0,>=7.1.1 in /opt/conda/lib/python3.10/site-packages (from typer<0.10.0,>=0.3.0->spacy<5.0.0,>=4.0.0.dev2->spacy-curated-transformers) (8.1.7)\n",
      "Collecting cloudpathlib<0.17.0,>=0.7.0 (from weasel<0.4.0,>=0.1.0->spacy<5.0.0,>=4.0.0.dev2->spacy-curated-transformers)\n",
      "  Downloading cloudpathlib-0.16.0-py3-none-any.whl.metadata (14 kB)\n",
      "Requirement already satisfied: MarkupSafe>=2.0 in /opt/conda/lib/python3.10/site-packages (from jinja2->spacy<5.0.0,>=4.0.0.dev2->spacy-curated-transformers) (2.1.3)\n",
      "Requirement already satisfied: mpmath<1.4,>=1.1.0 in /opt/conda/lib/python3.10/site-packages (from sympy->torch>=1.12.0->spacy-curated-transformers) (1.3.0)\n",
      "Requirement already satisfied: marisa-trie>=0.7.7 in /opt/conda/lib/python3.10/site-packages (from language-data>=1.2->langcodes<4.0.0,>=3.2.0->spacy<5.0.0,>=4.0.0.dev2->spacy-curated-transformers) (1.1.0)\n",
      "Downloading spacy_curated_transformers-2.0.0-py2.py3-none-any.whl (240 kB)\n",
      "\u001b[2K   \u001b[90m━━━━━━━━━━━━━━━━━━━━━━━━━━━━━━━━━━━━━━━━\u001b[0m \u001b[32m240.3/240.3 kB\u001b[0m \u001b[31m6.4 MB/s\u001b[0m eta \u001b[36m0:00:00\u001b[0m00:01\u001b[0m\n",
      "\u001b[?25hDownloading curated_tokenizers-2.0.0-cp310-cp310-manylinux_2_17_x86_64.manylinux2014_x86_64.whl (772 kB)\n",
      "\u001b[2K   \u001b[90m━━━━━━━━━━━━━━━━━━━━━━━━━━━━━━━━━━━━━━━━\u001b[0m \u001b[32m772.8/772.8 kB\u001b[0m \u001b[31m25.6 MB/s\u001b[0m eta \u001b[36m0:00:00\u001b[0m\n",
      "\u001b[?25hDownloading curated_transformers-2.0.1-py2.py3-none-any.whl (363 kB)\n",
      "\u001b[2K   \u001b[90m━━━━━━━━━━━━━━━━━━━━━━━━━━━━━━━━━━━━━━━━\u001b[0m \u001b[32m363.5/363.5 kB\u001b[0m \u001b[31m20.3 MB/s\u001b[0m eta \u001b[36m0:00:00\u001b[0m\n",
      "\u001b[?25hDownloading spacy-4.0.0.dev3-cp310-cp310-manylinux_2_17_x86_64.manylinux2014_x86_64.whl (6.7 MB)\n",
      "\u001b[2K   \u001b[90m━━━━━━━━━━━━━━━━━━━━━━━━━━━━━━━━━━━━━━━━\u001b[0m \u001b[32m6.7/6.7 MB\u001b[0m \u001b[31m83.2 MB/s\u001b[0m eta \u001b[36m0:00:00\u001b[0m:00:01\u001b[0m00:01\u001b[0m\n",
      "\u001b[?25hDownloading thinc-9.0.0-cp310-cp310-manylinux_2_17_x86_64.manylinux2014_x86_64.whl (833 kB)\n",
      "\u001b[2K   \u001b[90m━━━━━━━━━━━━━━━━━━━━━━━━━━━━━━━━━━━━━━━━\u001b[0m \u001b[32m833.1/833.1 kB\u001b[0m \u001b[31m41.2 MB/s\u001b[0m eta \u001b[36m0:00:00\u001b[0m\n",
      "\u001b[?25hDownloading spacy_legacy-4.0.0.dev1-py2.py3-none-any.whl (30 kB)\n",
      "Downloading typer-0.9.4-py3-none-any.whl (45 kB)\n",
      "\u001b[2K   \u001b[90m━━━━━━━━━━━━━━━━━━━━━━━━━━━━━━━━━━━━━━━━\u001b[0m \u001b[32m46.0/46.0 kB\u001b[0m \u001b[31m3.4 MB/s\u001b[0m eta \u001b[36m0:00:00\u001b[0m\n",
      "\u001b[?25hDownloading weasel-0.3.4-py3-none-any.whl (50 kB)\n",
      "\u001b[2K   \u001b[90m━━━━━━━━━━━━━━━━━━━━━━━━━━━━━━━━━━━━━━━━\u001b[0m \u001b[32m50.1/50.1 kB\u001b[0m \u001b[31m3.6 MB/s\u001b[0m eta \u001b[36m0:00:00\u001b[0m\n",
      "\u001b[?25hDownloading cloudpathlib-0.16.0-py3-none-any.whl (45 kB)\n",
      "\u001b[2K   \u001b[90m━━━━━━━━━━━━━━━━━━━━━━━━━━━━━━━━━━━━━━━━\u001b[0m \u001b[32m45.0/45.0 kB\u001b[0m \u001b[31m3.0 MB/s\u001b[0m eta \u001b[36m0:00:00\u001b[0m\n",
      "\u001b[?25hInstalling collected packages: typer, spacy-legacy, curated-tokenizers, cloudpathlib, weasel, thinc, curated-transformers, spacy, spacy-curated-transformers\n",
      "  Attempting uninstall: typer\n",
      "    Found existing installation: typer 0.12.3\n",
      "    Uninstalling typer-0.12.3:\n",
      "      Successfully uninstalled typer-0.12.3\n",
      "  Attempting uninstall: spacy-legacy\n",
      "    Found existing installation: spacy-legacy 3.0.12\n",
      "    Uninstalling spacy-legacy-3.0.12:\n",
      "      Successfully uninstalled spacy-legacy-3.0.12\n",
      "  Attempting uninstall: cloudpathlib\n",
      "    Found existing installation: cloudpathlib 0.18.1\n",
      "    Uninstalling cloudpathlib-0.18.1:\n",
      "      Successfully uninstalled cloudpathlib-0.18.1\n",
      "  Attempting uninstall: weasel\n",
      "    Found existing installation: weasel 0.4.1\n",
      "    Uninstalling weasel-0.4.1:\n",
      "      Successfully uninstalled weasel-0.4.1\n",
      "  Attempting uninstall: thinc\n",
      "    Found existing installation: thinc 8.2.3\n",
      "    Uninstalling thinc-8.2.3:\n",
      "      Successfully uninstalled thinc-8.2.3\n",
      "  Attempting uninstall: spacy\n",
      "    Found existing installation: spacy 3.7.5\n",
      "    Uninstalling spacy-3.7.5:\n",
      "      Successfully uninstalled spacy-3.7.5\n",
      "\u001b[31mERROR: pip's dependency resolver does not currently take into account all the packages that are installed. This behaviour is the source of the following dependency conflicts.\n",
      "en-core-web-lg 3.7.1 requires spacy<3.8.0,>=3.7.2, but you have spacy 4.0.0.dev3 which is incompatible.\n",
      "en-core-web-sm 3.7.1 requires spacy<3.8.0,>=3.7.2, but you have spacy 4.0.0.dev3 which is incompatible.\n",
      "fastai 2.7.15 requires spacy<4, but you have spacy 4.0.0.dev3 which is incompatible.\u001b[0m\u001b[31m\n",
      "\u001b[0mSuccessfully installed cloudpathlib-0.16.0 curated-tokenizers-2.0.0 curated-transformers-2.0.1 spacy-4.0.0.dev3 spacy-curated-transformers-2.0.0 spacy-legacy-4.0.0.dev1 thinc-9.0.0 typer-0.9.0 weasel-0.3.4\n"
     ]
    }
   ],
   "source": [
    "!pip install spacy-curated-transformers\n",
    "!pip install gdown\n",
    "!pip install --upgrade spacy"
   ]
  },
  {
   "cell_type": "markdown",
   "metadata": {},
   "source": [
    "# Import required libraries"
   ]
  },
  {
   "cell_type": "code",
   "execution_count": null,
   "metadata": {
    "execution": {
     "iopub.execute_input": "2024-07-13T04:01:18.154858Z",
     "iopub.status.busy": "2024-07-13T04:01:18.154560Z",
     "iopub.status.idle": "2024-07-13T04:01:30.818184Z",
     "shell.execute_reply": "2024-07-13T04:01:30.817073Z",
     "shell.execute_reply.started": "2024-07-13T04:01:18.154830Z"
    },
    "trusted": true
   },
   "outputs": [],
   "source": [
    "import torch\n",
    "import os\n",
    "import spacy\n",
    "from spacy import displacy"
   ]
  },
  {
   "cell_type": "markdown",
   "metadata": {},
   "source": [
    "# Load the English language model"
   ]
  },
  {
   "cell_type": "code",
   "execution_count": null,
   "metadata": {
    "_cell_guid": "b1076dfc-b9ad-4769-8c92-a6c4dae69d19",
    "_uuid": "8f2839f25d086af736a60e9eeb907d3b93b6e0e5",
    "execution": {
     "iopub.execute_input": "2024-07-13T04:01:30.819995Z",
     "iopub.status.busy": "2024-07-13T04:01:30.819629Z",
     "iopub.status.idle": "2024-07-13T04:01:43.517737Z",
     "shell.execute_reply": "2024-07-13T04:01:43.516728Z",
     "shell.execute_reply.started": "2024-07-13T04:01:30.819956Z"
    },
    "trusted": true
   },
   "outputs": [],
   "source": [
    "nlp = spacy.load(\"/output/model-best\")"
   ]
  },
  {
   "cell_type": "markdown",
   "metadata": {},
   "source": [
    "# Start Training"
   ]
  },
  {
   "cell_type": "code",
   "execution_count": null,
   "metadata": {},
   "outputs": [],
   "source": [
    "!python -m spacy train config.cfg --output ./output --paths.train ./train_data.spacy --training.seed=101"
   ]
  },
  {
   "cell_type": "code",
   "execution_count": 18,
   "metadata": {
    "execution": {
     "iopub.execute_input": "2024-07-13T04:11:13.110952Z",
     "iopub.status.busy": "2024-07-13T04:11:13.110080Z",
     "iopub.status.idle": "2024-07-13T04:11:13.114884Z",
     "shell.execute_reply": "2024-07-13T04:11:13.113896Z",
     "shell.execute_reply.started": "2024-07-13T04:11:13.110919Z"
    },
    "trusted": true
   },
   "outputs": [],
   "source": [
    "# Sample text\n",
    "text = '''DRIVING LICENCE\n",
    "UK\n",
    "1 VEERUBLOG 2. GP VEERENDHER\n",
    "3. 15.03.1984 UNITED KINGDOM\n",
    "4a. 19.01.212 4b. 20.01.2032\n",
    "4c. DVLA\n",
    "5, VEERUBLOG753116SM9 35\n",
    "7.\n",
    "8. 122 BURNS CRESCENT\n",
    "EDINBURGH EH1 9GP\n",
    "9. AMAB1B/C1/D1BE/C1ED1EFKL\n",
    "'''"
   ]
  },
  {
   "cell_type": "code",
   "execution_count": 19,
   "metadata": {
    "execution": {
     "iopub.execute_input": "2024-07-13T04:11:13.253433Z",
     "iopub.status.busy": "2024-07-13T04:11:13.252664Z",
     "iopub.status.idle": "2024-07-13T04:11:37.152196Z",
     "shell.execute_reply": "2024-07-13T04:11:37.151205Z",
     "shell.execute_reply.started": "2024-07-13T04:11:13.253402Z"
    },
    "trusted": true
   },
   "outputs": [
    {
     "data": {
      "text/html": [
       "<span class=\"tex2jax_ignore\"><!DOCTYPE html>\n",
       "<html lang=\"en\">\n",
       "    <head>\n",
       "        <title>displaCy</title>\n",
       "    </head>\n",
       "\n",
       "    <body style=\"font-size: 16px; font-family: -apple-system, BlinkMacSystemFont, 'Segoe UI', Helvetica, Arial, sans-serif, 'Apple Color Emoji', 'Segoe UI Emoji', 'Segoe UI Symbol'; padding: 4rem 2rem; direction: ltr\">\n",
       "<figure style=\"margin-bottom: 6rem\">\n",
       "<div class=\"entities\" style=\"line-height: 2.5; direction: ltr\">DRIVING LICENCE<br>UK<br>1 \n",
       "<mark class=\"entity\" style=\"background: #ddd; padding: 0.45em 0.6em; margin: 0 0.25em; line-height: 1; border-radius: 0.35em;\">\n",
       "    VEERUBLOG\n",
       "    <span style=\"font-size: 0.8em; font-weight: bold; line-height: 1; border-radius: 0.35em; vertical-align: middle; margin-left: 0.5rem\">Restrictions</span>\n",
       "</mark>\n",
       " 2. GP VEERENDHER<br>3. \n",
       "<mark class=\"entity\" style=\"background: #ddd; padding: 0.45em 0.6em; margin: 0 0.25em; line-height: 1; border-radius: 0.35em;\">\n",
       "    15.03.1984\n",
       "    <span style=\"font-size: 0.8em; font-weight: bold; line-height: 1; border-radius: 0.35em; vertical-align: middle; margin-left: 0.5rem\">DOB</span>\n",
       "</mark>\n",
       " \n",
       "<mark class=\"entity\" style=\"background: #ddd; padding: 0.45em 0.6em; margin: 0 0.25em; line-height: 1; border-radius: 0.35em;\">\n",
       "    UNITED\n",
       "    <span style=\"font-size: 0.8em; font-weight: bold; line-height: 1; border-radius: 0.35em; vertical-align: middle; margin-left: 0.5rem\">Country</span>\n",
       "</mark>\n",
       " KINGDOM<br>4a. \n",
       "<mark class=\"entity\" style=\"background: #ddd; padding: 0.45em 0.6em; margin: 0 0.25em; line-height: 1; border-radius: 0.35em;\">\n",
       "    19.01.212\n",
       "    <span style=\"font-size: 0.8em; font-weight: bold; line-height: 1; border-radius: 0.35em; vertical-align: middle; margin-left: 0.5rem\">Issue_Date</span>\n",
       "</mark>\n",
       " 4b. \n",
       "<mark class=\"entity\" style=\"background: #ddd; padding: 0.45em 0.6em; margin: 0 0.25em; line-height: 1; border-radius: 0.35em;\">\n",
       "    20.01.2032\n",
       "    <span style=\"font-size: 0.8em; font-weight: bold; line-height: 1; border-radius: 0.35em; vertical-align: middle; margin-left: 0.5rem\">Expiration</span>\n",
       "</mark>\n",
       "<br>4c. \n",
       "<mark class=\"entity\" style=\"background: #ddd; padding: 0.45em 0.6em; margin: 0 0.25em; line-height: 1; border-radius: 0.35em;\">\n",
       "    DVLA\n",
       "    <span style=\"font-size: 0.8em; font-weight: bold; line-height: 1; border-radius: 0.35em; vertical-align: middle; margin-left: 0.5rem\">Document_Number</span>\n",
       "</mark>\n",
       "<br>\n",
       "<mark class=\"entity\" style=\"background: #ddd; padding: 0.45em 0.6em; margin: 0 0.25em; line-height: 1; border-radius: 0.35em;\">\n",
       "    5\n",
       "    <span style=\"font-size: 0.8em; font-weight: bold; line-height: 1; border-radius: 0.35em; vertical-align: middle; margin-left: 0.5rem\">Document_Number</span>\n",
       "</mark>\n",
       ", \n",
       "<mark class=\"entity\" style=\"background: #ddd; padding: 0.45em 0.6em; margin: 0 0.25em; line-height: 1; border-radius: 0.35em;\">\n",
       "    VEERUBLOG753116SM9\n",
       "    <span style=\"font-size: 0.8em; font-weight: bold; line-height: 1; border-radius: 0.35em; vertical-align: middle; margin-left: 0.5rem\">Document_Number</span>\n",
       "</mark>\n",
       " \n",
       "<mark class=\"entity\" style=\"background: #ddd; padding: 0.45em 0.6em; margin: 0 0.25em; line-height: 1; border-radius: 0.35em;\">\n",
       "    35\n",
       "7.\n",
       "8. 122 BURNS CRESCENT\n",
       "EDINBURGH EH1 9GP\n",
       "    <span style=\"font-size: 0.8em; font-weight: bold; line-height: 1; border-radius: 0.35em; vertical-align: middle; margin-left: 0.5rem\">Address</span>\n",
       "</mark>\n",
       "<br>9. \n",
       "<mark class=\"entity\" style=\"background: #ddd; padding: 0.45em 0.6em; margin: 0 0.25em; line-height: 1; border-radius: 0.35em;\">\n",
       "    AMAB1B\n",
       "    <span style=\"font-size: 0.8em; font-weight: bold; line-height: 1; border-radius: 0.35em; vertical-align: middle; margin-left: 0.5rem\">Last_Name</span>\n",
       "</mark>\n",
       "/\n",
       "<mark class=\"entity\" style=\"background: #ddd; padding: 0.45em 0.6em; margin: 0 0.25em; line-height: 1; border-radius: 0.35em;\">\n",
       "    C1\n",
       "    <span style=\"font-size: 0.8em; font-weight: bold; line-height: 1; border-radius: 0.35em; vertical-align: middle; margin-left: 0.5rem\">Class</span>\n",
       "</mark>\n",
       "/D1BE/C1ED1EFKL<br></div>\n",
       "</figure>\n",
       "</body>\n",
       "</html></span>"
      ],
      "text/plain": [
       "<IPython.core.display.HTML object>"
      ]
     },
     "metadata": {},
     "output_type": "display_data"
    },
    {
     "name": "stdout",
     "output_type": "stream",
     "text": [
      "\n",
      "Using the 'ent' visualizer\n",
      "Serving on http://0.0.0.0:5000 ...\n",
      "\n",
      "Shutting down server on port 5000.\n"
     ]
    }
   ],
   "source": [
    "# Process the text\n",
    "doc = nlp(text)\n",
    "\n",
    "# Visualize the entities\n",
    "displacy.serve(doc, style=\"ent\")"
   ]
  },
  {
   "cell_type": "markdown",
   "metadata": {},
   "source": [
    "# New Training"
   ]
  },
  {
   "cell_type": "code",
   "execution_count": null,
   "metadata": {},
   "outputs": [],
   "source": [
    "!python -m spacy train_config.cfg \\\n",
    "    --output ./output \\\n",
    "    --paths.train ./train.spacy \\\n",
    "    --paths.dev ./dev.spacy \\\n",
    "    --training.seed=101 \\\n",
    "    --training.patience=2000 \\\n",
    "    --gpu-id 0 \\\n",
    "#    --components.transformer.source = /output/model-best\n",
    "#    --components.transformer.model.num_hidden_layers=2 \\\n",
    "#     --training.logger.progress_bar=true \\\n",
    "#     --training.batcher.size=2000 \\\n",
    "#     --training.max_steps=20000 \\\n",
    "#     --nlp.batch_size=32 \\\n",
    "#     --components.transformer.model.with_spans.batch_size=256 \\\n",
    "#     --training.accumulate_gradient=4 \\\n",
    "#     --training.eval_frequency=20 \\"
   ]
  },
  {
   "cell_type": "markdown",
   "metadata": {},
   "source": [
    "# Continue Training"
   ]
  },
  {
   "cell_type": "code",
   "execution_count": null,
   "metadata": {},
   "outputs": [],
   "source": [
    "!python -m spacy train_config.cfg \\\n",
    "    --output ./output \\\n",
    "    --paths.train ./train.spacy \\\n",
    "    --paths.dev ./dev.spacy \\\n",
    "    --training.seed=101 \\\n",
    "    --training.patience=2000 \\\n",
    "    --gpu-id 0 \\\n",
    "    --components.transformer.source = /output/model-best\n",
    "#    --components.transformer.model.num_hidden_layers=2 \\\n",
    "#     --training.logger.progress_bar=true \\\n",
    "#     --training.batcher.size=2000 \\\n",
    "#     --training.max_steps=20000 \\\n",
    "#     --nlp.batch_size=32 \\\n",
    "#     --components.transformer.model.with_spans.batch_size=256 \\\n",
    "#     --training.accumulate_gradient=4 \\\n",
    "#     --training.eval_frequency=20 \\"
   ]
  }
 ],
 "metadata": {
  "kernelspec": {
   "display_name": "Python 3",
   "language": "python",
   "name": "python3"
  },
  "language_info": {
   "codemirror_mode": {
    "name": "ipython",
    "version": 3
   },
   "file_extension": ".py",
   "mimetype": "text/x-python",
   "name": "python",
   "nbconvert_exporter": "python",
   "pygments_lexer": "ipython3",
   "version": "3.12.7"
  }
 },
 "nbformat": 4,
 "nbformat_minor": 4
}
